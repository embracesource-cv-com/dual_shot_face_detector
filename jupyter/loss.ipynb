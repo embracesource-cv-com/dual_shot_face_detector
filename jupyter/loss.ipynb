{
 "cells": [
  {
   "cell_type": "code",
   "execution_count": 101,
   "metadata": {},
   "outputs": [],
   "source": [
    "import sys\n",
    "sys.path.append('/opt/code/face/dual_shot')\n",
    "sys.path.append('/opt/code/face/dual_shot/prepare_data')\n",
    "import numpy as np\n",
    "import tensorflow as tf\n",
    "from dual_conf import current_config as conf\n",
    "from prepare_data.generator import gen_data\n",
    "from prepare_data.model_target import cal_target\n",
    "from prepare_data.generator import image_reader,layer_strides,map_size,e_scale,ratio\n",
    "from prepare_data.model_target import init_anchors\n",
    "from dual_conf import current_config as conf\n",
    "from prepare_data.widerface import WIDERFaceDetection\n",
    "\n",
    "config = tf.ConfigProto()\n",
    "config.gpu_options.allow_growth= True\n",
    "sess = tf.Session(config=config)"
   ]
  },
  {
   "cell_type": "markdown",
   "metadata": {},
   "source": [
    "## load gt"
   ]
  },
  {
   "cell_type": "code",
   "execution_count": 2,
   "metadata": {},
   "outputs": [
    {
     "name": "stdout",
     "output_type": "stream",
     "text": [
      "Error bbox number to filter : 48,  bbox number: 159376\n"
     ]
    }
   ],
   "source": [
    "test_set = WIDERFaceDetection(conf.data_path, 'train', None, None)\n",
    "image, gts, labels = image_reader(test_set)"
   ]
  },
  {
   "cell_type": "markdown",
   "metadata": {},
   "source": [
    "## initialize anchors"
   ]
  },
  {
   "cell_type": "code",
   "execution_count": 3,
   "metadata": {},
   "outputs": [
    {
     "data": {
      "text/plain": [
       "(34125, 4)"
      ]
     },
     "execution_count": 3,
     "metadata": {},
     "output_type": "execute_result"
    }
   ],
   "source": [
    "anchors = init_anchors(layer_strides, map_size, ratio, e_scale)\n",
    "anchors.shape"
   ]
  },
  {
   "cell_type": "markdown",
   "metadata": {},
   "source": [
    "## calculate target"
   ]
  },
  {
   "cell_type": "code",
   "execution_count": 177,
   "metadata": {},
   "outputs": [
    {
     "name": "stdout",
     "output_type": "stream",
     "text": [
      "Error bbox number to filter : 48,  bbox number: 159376\n",
      "[(4, 640, 640, 3), (4, 34125, 4), (4, 34125), (4, 34125, 4), (4, 34125)]\n"
     ]
    }
   ],
   "source": [
    "gen = gen_data(conf.batch_size, 'train')\n",
    "print([i.shape for i in next(gen)[0]])\n",
    "[batch_img, e_reg_targets, e_cls_targets, o_reg_targets, o_cls_targets], []= next(gen)"
   ]
  },
  {
   "cell_type": "markdown",
   "metadata": {},
   "source": [
    "## cls loss demo"
   ]
  },
  {
   "cell_type": "code",
   "execution_count": 185,
   "metadata": {},
   "outputs": [
    {
     "name": "stdout",
     "output_type": "stream",
     "text": [
      "<tf.Variable 'Variable_21:0' shape=(4, 34125) dtype=int64_ref> Tensor(\"random_uniform_26:0\", shape=(4, 34125, 2), dtype=float32)\n"
     ]
    }
   ],
   "source": [
    "cls_target = tf.Variable(e_cls_targets)\n",
    "shape = [4,conf.num_anchor,2]\n",
    "predict_logits= tf.random_uniform(shape,1,10)\n",
    "print(cls_target,predict_logits)"
   ]
  },
  {
   "cell_type": "code",
   "execution_count": 186,
   "metadata": {},
   "outputs": [
    {
     "data": {
      "text/plain": [
       "<tf.Tensor 'Where_32:0' shape=(?, 2) dtype=int64>"
      ]
     },
     "execution_count": 186,
     "metadata": {},
     "output_type": "execute_result"
    }
   ],
   "source": [
    "train_indices = tf.where(tf.not_equal(cls_target, 0))  # 参与训练的indice\n",
    "train_indices"
   ]
  },
  {
   "cell_type": "code",
   "execution_count": 179,
   "metadata": {},
   "outputs": [],
   "source": [
    "cls_target = tf.gather_nd(cls_target, train_indices)\n",
    "cls_target = tf.where(cls_target > 0, cls_target, tf.zeros_like(cls_target))  # change negative tag from -1 to 0\n",
    "cls_target = tf.cast(cls_target, dtype=tf.int32)\n",
    "cls_target = tf.one_hot(cls_target, depth=2)"
   ]
  },
  {
   "cell_type": "code",
   "execution_count": 180,
   "metadata": {},
   "outputs": [
    {
     "data": {
      "text/plain": [
       "TensorShape([Dimension(4), Dimension(34125)])"
      ]
     },
     "execution_count": 180,
     "metadata": {},
     "output_type": "execute_result"
    }
   ],
   "source": [
    "predict_logits[..., 0].shape"
   ]
  },
  {
   "cell_type": "code",
   "execution_count": 181,
   "metadata": {},
   "outputs": [],
   "source": [
    "# remove padding anchors and un-trained anchors from pred logit\n",
    "logit0 = tf.gather_nd(predict_logits[..., 0], train_indices)\n",
    "logit1 = tf.gather_nd(predict_logits[..., 1], train_indices)\n",
    "logit = tf.stack([logit0, logit1], axis=1)\n",
    "\n",
    "loss = tf.nn.softmax_cross_entropy_with_logits_v2(labels=predict_logits, logits=logit)\n",
    "loss"
   ]
  },
  {
   "cell_type": "markdown",
   "metadata": {},
   "source": [
    "## cls loss func"
   ]
  },
  {
   "cell_type": "code",
   "execution_count": 182,
   "metadata": {},
   "outputs": [],
   "source": [
    "import keras.backend as K\n",
    "def cls_loss(cls_target, predict_logits):\n",
    "    \"\"\"\n",
    "    :param cls_target:2-d array,[batch_num,num_train_anchors]; 1,-1,0 for pos,neg and un-train anchors respectively\n",
    "    :param predict_logits: 2-d array,(batch_num,anchors_num,2) fg or bg\n",
    "    :return: classification loss of training anchors\n",
    "    \"\"\"\n",
    "\n",
    "    # remove padding from true class\n",
    "    train_indices = tf.where(tf.not_equal(cls_target, 0))  # 参与训练的indice\n",
    "    cls_target = tf.gather_nd(cls_target, train_indices)\n",
    "    cls_target = tf.where(cls_target > 0, cls_target, tf.zeros_like(cls_target))  # change negative tag from -1 to 0\n",
    "    cls_target = tf.cast(cls_target, dtype=tf.int32)\n",
    "    cls_target = tf.one_hot(cls_target, depth=2)\n",
    "\n",
    "    # remove padding anchors and un-trained anchors from pred logit\n",
    "    logit0 = tf.gather_nd(predict_logits[..., 0], train_indices)\n",
    "    logit1 = tf.gather_nd(predict_logits[..., 1], train_indices)\n",
    "    logit = tf.stack([logit0, logit1], axis=1)\n",
    "\n",
    "    loss = tf.nn.softmax_cross_entropy_with_logits_v2(labels=cls_target, logits=logit)\n",
    "    loss = K.mean(loss)\n",
    "    return loss"
   ]
  },
  {
   "cell_type": "code",
   "execution_count": 183,
   "metadata": {},
   "outputs": [
    {
     "data": {
      "text/plain": [
       "<tf.Tensor 'Mean_6:0' shape=() dtype=float32>"
      ]
     },
     "execution_count": 183,
     "metadata": {},
     "output_type": "execute_result"
    }
   ],
   "source": [
    "cls_target = tf.Variable(e_cls_targets)\n",
    "shape = [4,conf.num_anchor,2]\n",
    "predict_logits= tf.random_uniform(shape,1,10)\n",
    "print(cls_target,predict_logits)"
   ]
  },
  {
   "cell_type": "code",
   "execution_count": 184,
   "metadata": {},
   "outputs": [
    {
     "name": "stdout",
     "output_type": "stream",
     "text": [
      "Tensor(\"Mean_7:0\", shape=(), dtype=float32) \n",
      " 0.71102315\n"
     ]
    }
   ],
   "source": [
    "to_run = [cls_loss(cls_target, predict_logits)]\n",
    "sess.run(tf.global_variables_initializer())\n",
    "for i in to_run:\n",
    "    print(i,'\\n',sess.run(i))"
   ]
  },
  {
   "cell_type": "markdown",
   "metadata": {},
   "source": [
    "## regr loss func"
   ]
  },
  {
   "cell_type": "code",
   "execution_count": 172,
   "metadata": {},
   "outputs": [],
   "source": [
    "def regr_loss(reg_target, predict_deltas, cls_target):\n",
    "    \"\"\"\n",
    "    :param reg_target: 2-d array,[batch_num,num_anchors,(dy,dx,dz,dh)]fg or bg\n",
    "    :param predict_deltas: 2-d array,[batch_num,num_anchors,(dy,dx,dz,dh)] fg or bg\n",
    "    :param cls_target: 2-d array,[batch_num,num_anchors]; 1,-1,0 for pos,neg and un-train anchors respectively\n",
    "    :return:\n",
    "    \"\"\"\n",
    "    # remove un-trained anchors\n",
    "    pos_indice = tf.where(tf.equal(cls_target, 1))\n",
    "    reg_target = tf.gather_nd(reg_target, pos_indice)\n",
    "    pred_deltas = tf.gather_nd(predict_deltas, pos_indice)\n",
    "    \n",
    "    reg_target = tf.cast(reg_target,tf.float64)\n",
    "    pred_deltas = tf.cast(pred_deltas,tf.float64)\n",
    "    diff = tf.abs(reg_target - pred_deltas)\n",
    "    smooth_loss = tf.where(diff < 1, tf.pow(diff, 2) * 0.5, diff - 0.5)\n",
    "    loss = K.mean(smooth_loss)\n",
    "    return loss"
   ]
  },
  {
   "cell_type": "code",
   "execution_count": 173,
   "metadata": {},
   "outputs": [
    {
     "name": "stdout",
     "output_type": "stream",
     "text": [
      "<tf.Variable 'Variable_18:0' shape=(4, 34125, 4) dtype=float64_ref> <tf.Variable 'Variable_19:0' shape=(4, 34125) dtype=int64_ref> Tensor(\"random_uniform_24:0\", shape=(4, 34125, 4), dtype=float32)\n"
     ]
    }
   ],
   "source": [
    "reg_target = tf.Variable(e_reg_targets)\n",
    "cls_target = tf.Variable(e_cls_targets)\n",
    "shape = [4,conf.num_anchor,4]\n",
    "predict_deltas= tf.random_uniform(shape)\n",
    "print(reg_target,cls_target,predict_deltas)"
   ]
  },
  {
   "cell_type": "code",
   "execution_count": 174,
   "metadata": {},
   "outputs": [
    {
     "name": "stdout",
     "output_type": "stream",
     "text": [
      "Tensor(\"Mean_5:0\", shape=(), dtype=float64) \n",
      " 0.9879738810606629\n"
     ]
    }
   ],
   "source": [
    "to_run = [regr_loss(reg_target, predict_deltas, cls_target)]\n",
    "sess.run(tf.global_variables_initializer())\n",
    "for i in to_run:\n",
    "    print(i,'\\n',sess.run(i))"
   ]
  },
  {
   "cell_type": "code",
   "execution_count": null,
   "metadata": {},
   "outputs": [],
   "source": []
  },
  {
   "cell_type": "code",
   "execution_count": null,
   "metadata": {},
   "outputs": [],
   "source": []
  },
  {
   "cell_type": "code",
   "execution_count": null,
   "metadata": {},
   "outputs": [],
   "source": []
  },
  {
   "cell_type": "code",
   "execution_count": null,
   "metadata": {},
   "outputs": [],
   "source": []
  },
  {
   "cell_type": "code",
   "execution_count": null,
   "metadata": {},
   "outputs": [],
   "source": []
  }
 ],
 "metadata": {
  "kernelspec": {
   "display_name": "Python [conda env:keras]",
   "language": "python",
   "name": "conda-env-keras-py"
  },
  "language_info": {
   "codemirror_mode": {
    "name": "ipython",
    "version": 3
   },
   "file_extension": ".py",
   "mimetype": "text/x-python",
   "name": "python",
   "nbconvert_exporter": "python",
   "pygments_lexer": "ipython3",
   "version": "3.6.7"
  },
  "toc": {
   "base_numbering": 1,
   "nav_menu": {},
   "number_sections": true,
   "sideBar": true,
   "skip_h1_title": false,
   "title_cell": "Table of Contents",
   "title_sidebar": "Contents",
   "toc_cell": false,
   "toc_position": {},
   "toc_section_display": true,
   "toc_window_display": true
  }
 },
 "nbformat": 4,
 "nbformat_minor": 2
}
