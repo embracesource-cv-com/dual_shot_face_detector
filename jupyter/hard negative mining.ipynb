{
 "cells": [
  {
   "cell_type": "markdown",
   "metadata": {},
   "source": [
    "## imports"
   ]
  },
  {
   "cell_type": "code",
   "execution_count": 1,
   "metadata": {},
   "outputs": [
    {
     "name": "stderr",
     "output_type": "stream",
     "text": [
      "/root/anaconda3/envs/keras/lib/python3.6/importlib/_bootstrap.py:219: RuntimeWarning: numpy.dtype size changed, may indicate binary incompatibility. Expected 96, got 88\n",
      "  return f(*args, **kwds)\n",
      "/root/anaconda3/envs/keras/lib/python3.6/importlib/_bootstrap.py:219: RuntimeWarning: numpy.dtype size changed, may indicate binary incompatibility. Expected 96, got 88\n",
      "  return f(*args, **kwds)\n",
      "Using TensorFlow backend.\n"
     ]
    },
    {
     "name": "stdout",
     "output_type": "stream",
     "text": [
      "using: resnet50 as the base model\n"
     ]
    }
   ],
   "source": [
    "import tensorflow as tf \n",
    "import numpy as np\n",
    "import keras.backend as K\n",
    "\n",
    "import sys\n",
    "sys.path.append('/opt/code/face/dual_shot')\n",
    "import numpy as np\n",
    "from net.dual_shot import test_net\n",
    "from prepare_data.generator import image_reader,augment\n",
    "from prepare_data.augment import Augmentation\n",
    "from prepare_data.widerface import WIDERFaceDetection\n",
    "from dual_conf import current_config as conf\n",
    "\n",
    "config = tf.ConfigProto()\n",
    "config.gpu_options.allow_growth= True\n",
    "sess = tf.Session(config=config)\n",
    "import os \n",
    "os.environ['CUDA_VISIBLE_DEVICES'] = '0'"
   ]
  },
  {
   "cell_type": "code",
   "execution_count": 2,
   "metadata": {},
   "outputs": [
    {
     "data": {
      "text/plain": [
       "array([[-1, -1, -1, -1,  1,  1,  0,  0],\n",
       "       [-1, -1,  1, -1, -1,  0,  0,  0]])"
      ]
     },
     "execution_count": 2,
     "metadata": {},
     "output_type": "execute_result"
    }
   ],
   "source": [
    "cls_target = np.random.randint(-1,2,[2,8])\n",
    "cls_target"
   ]
  },
  {
   "cell_type": "code",
   "execution_count": 3,
   "metadata": {},
   "outputs": [
    {
     "data": {
      "text/plain": [
       "array([[[ 3, -1],\n",
       "        [ 6,  6],\n",
       "        [ 9,  2],\n",
       "        [ 0,  6],\n",
       "        [ 7,  4],\n",
       "        [-1,  8],\n",
       "        [ 8,  6],\n",
       "        [ 0,  5]],\n",
       "\n",
       "       [[ 8,  7],\n",
       "        [ 5,  0],\n",
       "        [ 5,  7],\n",
       "        [ 6,  4],\n",
       "        [ 4,  4],\n",
       "        [ 0,  6],\n",
       "        [ 3,  9],\n",
       "        [ 8,  2]]])"
      ]
     },
     "execution_count": 3,
     "metadata": {},
     "output_type": "execute_result"
    }
   ],
   "source": [
    "predict_logits = np.random.randint(-1,10,[2,8,2])\n",
    "predict_logits"
   ]
  },
  {
   "cell_type": "code",
   "execution_count": 4,
   "metadata": {},
   "outputs": [],
   "source": [
    "cls_target = tf.constant(cls_target)\n",
    "predict_logits = tf.constant(predict_logits,tf.float64)"
   ]
  },
  {
   "cell_type": "code",
   "execution_count": 5,
   "metadata": {},
   "outputs": [],
   "source": [
    "train_indices = tf.where(tf.not_equal(cls_target, 0))\n",
    "cls_target = tf.gather_nd(cls_target, train_indices)\n",
    "cls_target = tf.where(cls_target > 0, cls_target, tf.zeros_like(cls_target))\n",
    "cls_target = tf.one_hot(cls_target, depth=2)"
   ]
  },
  {
   "cell_type": "code",
   "execution_count": 6,
   "metadata": {},
   "outputs": [],
   "source": [
    "# remove un-trained anchors from pred logit\n",
    "logit0 = tf.gather_nd(predict_logits[..., 0], train_indices)\n",
    "logit1 = tf.gather_nd(predict_logits[..., 1], train_indices)\n",
    "predict_logits = tf.stack([logit0, logit1], axis=1)\n",
    "predict_logits = tf.cast(predict_logits, dtype=tf.float64)"
   ]
  },
  {
   "cell_type": "code",
   "execution_count": 7,
   "metadata": {},
   "outputs": [
    {
     "name": "stdout",
     "output_type": "stream",
     "text": [
      "Tensor(\"Where:0\", shape=(?, 2), dtype=int64) \n",
      " [[0 0]\n",
      " [0 1]\n",
      " [0 2]\n",
      " [0 3]\n",
      " [0 4]\n",
      " [0 5]\n",
      " [1 0]\n",
      " [1 1]\n",
      " [1 2]\n",
      " [1 3]\n",
      " [1 4]]\n",
      "Tensor(\"one_hot:0\", shape=(?, 2), dtype=float32) \n",
      " [[1. 0.]\n",
      " [1. 0.]\n",
      " [1. 0.]\n",
      " [1. 0.]\n",
      " [0. 1.]\n",
      " [0. 1.]\n",
      " [1. 0.]\n",
      " [1. 0.]\n",
      " [0. 1.]\n",
      " [1. 0.]\n",
      " [1. 0.]]\n",
      "Tensor(\"stack:0\", shape=(?, 2), dtype=float64) \n",
      " [[ 3. -1.]\n",
      " [ 6.  6.]\n",
      " [ 9.  2.]\n",
      " [ 0.  6.]\n",
      " [ 7.  4.]\n",
      " [-1.  8.]\n",
      " [ 8.  7.]\n",
      " [ 5.  0.]\n",
      " [ 5.  7.]\n",
      " [ 6.  4.]\n",
      " [ 4.  4.]]\n"
     ]
    }
   ],
   "source": [
    "to_run = [train_indices,cls_target,predict_logits]\n",
    "for i in to_run:\n",
    "    print(i,'\\n',sess.run(i))"
   ]
  },
  {
   "cell_type": "code",
   "execution_count": 8,
   "metadata": {},
   "outputs": [],
   "source": [
    "# loss_to_rank = log_sum_exp(cls_target,predict_logits)\n",
    "# to_run = [loss_to_rank]\n",
    "# for i in to_run:\n",
    "#     print(i,'\\n',sess.run(i))"
   ]
  },
  {
   "cell_type": "code",
   "execution_count": 9,
   "metadata": {},
   "outputs": [
    {
     "name": "stdout",
     "output_type": "stream",
     "text": [
      "Tensor(\"stack:0\", shape=(?, 2), dtype=float64) \n",
      " [[ 3. -1.]\n",
      " [ 6.  6.]\n",
      " [ 9.  2.]\n",
      " [ 0.  6.]\n",
      " [ 7.  4.]\n",
      " [-1.  8.]\n",
      " [ 8.  7.]\n",
      " [ 5.  0.]\n",
      " [ 5.  7.]\n",
      " [ 6.  4.]\n",
      " [ 4.  4.]]\n",
      "Tensor(\"one_hot:0\", shape=(?, 2), dtype=float32) \n",
      " [[1. 0.]\n",
      " [1. 0.]\n",
      " [1. 0.]\n",
      " [1. 0.]\n",
      " [0. 1.]\n",
      " [0. 1.]\n",
      " [1. 0.]\n",
      " [1. 0.]\n",
      " [0. 1.]\n",
      " [1. 0.]\n",
      " [1. 0.]]\n",
      "Tensor(\"GatherNd_3:0\", shape=(?,), dtype=float64) \n",
      " [3. 6. 9. 0. 4. 8. 8. 5. 7. 6. 4.]\n",
      "Tensor(\"sub_1:0\", dtype=float64) \n",
      " [1.81499279e-02 6.93147181e-01 9.11466454e-04 6.00247569e+00\n",
      " 3.04858735e+00 1.23402190e-04 3.13261688e-01 6.71534849e-03\n",
      " 1.26928011e-01 1.26928011e-01 6.93147181e-01]\n"
     ]
    }
   ],
   "source": [
    "cls_target,pred_logit = cls_target,predict_logits\n",
    "logit_max = tf.reduce_max(pred_logit)\n",
    "loss = tf.log(tf.reduce_sum(tf.exp(pred_logit - logit_max), 1, keepdims=True)) + logit_max\n",
    "cls_indice = tf.where(cls_target>=1) \n",
    "anchor_cls_logit = tf.gather_nd(pred_logit,cls_indice)\n",
    "loss = tf.squeeze(loss)\n",
    "loss = loss - anchor_cls_logit\n",
    "\n",
    "\n",
    "to_run = [pred_logit,cls_target,anchor_cls_logit,loss]\n",
    "for i in to_run:\n",
    "    print(i,'\\n',sess.run(i))"
   ]
  },
  {
   "cell_type": "code",
   "execution_count": 10,
   "metadata": {},
   "outputs": [
    {
     "name": "stdout",
     "output_type": "stream",
     "text": [
      "Tensor(\"concat:0\", dtype=int64) \n",
      " [4 5 8 3 1]\n",
      "Tensor(\"one_hot:0\", shape=(?, 2), dtype=float32) \n",
      " [[1. 0.]\n",
      " [1. 0.]\n",
      " [1. 0.]\n",
      " [1. 0.]\n",
      " [0. 1.]\n",
      " [0. 1.]\n",
      " [1. 0.]\n",
      " [1. 0.]\n",
      " [0. 1.]\n",
      " [1. 0.]\n",
      " [1. 0.]]\n",
      "Tensor(\"stack:0\", shape=(?, 2), dtype=float64) \n",
      " [[ 3. -1.]\n",
      " [ 6.  6.]\n",
      " [ 9.  2.]\n",
      " [ 0.  6.]\n",
      " [ 7.  4.]\n",
      " [-1.  8.]\n",
      " [ 8.  7.]\n",
      " [ 5.  0.]\n",
      " [ 5.  7.]\n",
      " [ 6.  4.]\n",
      " [ 4.  4.]]\n",
      "Tensor(\"GatherV2:0\", dtype=float32) \n",
      " [[0. 1.]\n",
      " [0. 1.]\n",
      " [0. 1.]\n",
      " [1. 0.]\n",
      " [1. 0.]]\n",
      "Tensor(\"GatherV2_1:0\", dtype=float64) \n",
      " [[ 7.  4.]\n",
      " [-1.  8.]\n",
      " [ 5.  7.]\n",
      " [ 0.  6.]\n",
      " [ 6.  6.]]\n"
     ]
    }
   ],
   "source": [
    "loss = tf.cast(cls_target[:,0],tf.float64)*loss # set loss for pos anchor to 0\n",
    "_, neg_ind  = tf.nn.top_k(loss, 2)\n",
    "pos_ind = tf.squeeze(tf.where(cls_target[:,1]>=1))\n",
    "pos_ind = tf.cast(pos_ind,tf.int64)\n",
    "neg_ind = tf.cast(neg_ind,tf.int64)\n",
    "all_ind = tf.concat([pos_ind,neg_ind],axis=0)\n",
    "# cls_target = tf.gather(cls_target,all_ind)\n",
    "# pred_logit = tf.gather(pred_logit,all_ind)\n",
    "to_run = [all_ind,cls_target,pred_logit,tf.gather(cls_target,all_ind),tf.gather(pred_logit,all_ind)]\n",
    "for i in to_run:\n",
    "    print(i,'\\n',sess.run(i))"
   ]
  },
  {
   "cell_type": "code",
   "execution_count": null,
   "metadata": {},
   "outputs": [],
   "source": []
  },
  {
   "cell_type": "markdown",
   "metadata": {},
   "source": [
    "## func"
   ]
  },
  {
   "cell_type": "code",
   "execution_count": null,
   "metadata": {},
   "outputs": [],
   "source": []
  },
  {
   "cell_type": "code",
   "execution_count": 11,
   "metadata": {},
   "outputs": [
    {
     "name": "stdout",
     "output_type": "stream",
     "text": [
      "Tensor(\"GatherV2_2:0\", dtype=float32) Tensor(\"GatherV2_3:0\", dtype=float64)\n",
      "Tensor(\"Mean:0\", shape=(), dtype=float64) \n",
      " 1.5832593952721088\n"
     ]
    }
   ],
   "source": [
    "# -*- coding:utf-8 _*-\n",
    "\"\"\"\n",
    "@author: danna.li\n",
    "@date: 2019/4/25\n",
    "@file: loss_func.py\n",
    "@description:\n",
    "\"\"\"\n",
    "\n",
    "import tensorflow as tf\n",
    "import keras.backend as K\n",
    "from dual_conf import current_config as conf\n",
    "\n",
    "\n",
    "def log_sum_exp(cls_target, predict_logits):\n",
    "    \"\"\"un-averaged confidence loss across all examples in a batch.\n",
    "    :param cls_target: 2-d tensor,[num_anchors,2 ]; 1,0 for pos,neg anchors respectively\n",
    "    :param predict_logits: 2-d tensor,[num_anchors,2] 2 for fg and bg\n",
    "    :return: loss,1-D tensor\n",
    "    \"\"\"\n",
    "    logit_max = tf.reduce_max(predict_logits)\n",
    "    loss = tf.log(tf.reduce_sum(tf.exp(predict_logits - logit_max), 1, keepdims=True)) + logit_max\n",
    "    cls_indice = tf.where(cls_target >= 1)\n",
    "    anchor_cls_logit = tf.gather_nd(predict_logits, cls_indice)\n",
    "    loss = tf.squeeze(loss)\n",
    "    loss = loss - anchor_cls_logit\n",
    "    return loss\n",
    "\n",
    "\n",
    "def hard_neg_mining(cls_target, predict_logits):\n",
    "    \"\"\"\n",
    "    select top 80 negtive anchors the contribute most loss to do the backward pass\n",
    "    :param cls_target:2-d tensor,[num_anchors,2 ]; 1,0 for pos,neg anchors respectively\n",
    "    :param predict_logits: 2-d tensor,[num_anchors,2] 2 for fg and bg\n",
    "    :return:\n",
    "    \"\"\"\n",
    "    loss_to_rank = log_sum_exp(cls_target, predict_logits)\n",
    "    loss_to_rank = tf.cast(cls_target[:, 0], tf.float64) * tf.cast(loss_to_rank,\n",
    "                                                                   tf.float64)  # set loss for pos anchor to 0\n",
    "    # neg_num = tf.cast(tf.reduce_sum(cls_target[:, -1]) * 3, tf.int32)\n",
    "    # _, neg_ind = tf.nn.top_k(loss_to_rank, neg_num)\n",
    "    _, neg_ind = tf.nn.top_k(loss_to_rank, 2)\n",
    "    pos_ind = tf.squeeze(tf.where(cls_target[:, 1] >= 1))\n",
    "    pos_ind = tf.cast(pos_ind, tf.int64)\n",
    "    neg_ind = tf.cast(neg_ind, tf.int64)\n",
    "    all_ind = tf.concat([pos_ind, neg_ind], axis=0)\n",
    "    cls_target = tf.gather(cls_target, all_ind)\n",
    "    predict_logits = tf.gather(predict_logits, all_ind)\n",
    "    return cls_target, predict_logits\n",
    "\n",
    "\n",
    "def cls_loss(cls_target, predict_logits):\n",
    "    \"\"\"\n",
    "    :param cls_target:2-d array,[batch_num,num_anchors]; 1,-1,0 for pos,neg and un-train anchors respectively\n",
    "    :param predict_logits: 3-d array,[batch_num,num_anchors,2] fg or bg\n",
    "    :return: classification loss of training anchors\n",
    "    \"\"\"\n",
    "    # remove un-trained anchors from cls_target and make cls_target to one-hot format\n",
    "    train_indices = tf.where(tf.not_equal(cls_target, 0))\n",
    "    cls_target = tf.gather_nd(cls_target, train_indices)\n",
    "    # change negative tag from -1 to 0\n",
    "    cls_target = tf.where(cls_target > 0, cls_target, tf.zeros_like(cls_target))\n",
    "    cls_target = tf.cast(cls_target, tf.int64)\n",
    "    cls_target = tf.one_hot(cls_target, depth=conf.num_class)\n",
    "\n",
    "    # remove un-trained anchors from pred logit\n",
    "    logit0 = tf.gather_nd(predict_logits[..., 0], train_indices)\n",
    "    logit1 = tf.gather_nd(predict_logits[..., 1], train_indices)\n",
    "    predict_logits = tf.stack([logit0, logit1], axis=1)\n",
    "    # predict_logits = tf.cast(predict_logits, dtype=tf.float32)\n",
    "\n",
    "    # hard negative anchor mining\n",
    "    if conf.hard_negative_mining:\n",
    "        cls_target, predict_logits = hard_neg_mining(cls_target, predict_logits)\n",
    "\n",
    "    #  calculate the loss\n",
    "    print(cls_target, predict_logits)\n",
    "    loss = tf.nn.softmax_cross_entropy_with_logits_v2(labels=cls_target, logits=predict_logits)\n",
    "    loss = K.mean(loss)\n",
    "    return loss\n",
    "\n",
    "\n",
    "if __name__ == '__main__':\n",
    "    import numpy as np\n",
    "\n",
    "    cls_target = np.random.randint(-1, 2, [2, 8])\n",
    "    predict_logits = np.random.randint(-1, 10, [2, 8, 2])\n",
    "    cls_target = tf.constant(cls_target)\n",
    "    predict_logits = tf.constant(predict_logits, tf.float64)\n",
    "    loss = cls_loss(cls_target, predict_logits)\n",
    "    to_run = [loss]\n",
    "    sess = tf.Session()\n",
    "    for i in to_run:\n",
    "        print(i, '\\n', sess.run(i))\n"
   ]
  },
  {
   "cell_type": "code",
   "execution_count": null,
   "metadata": {},
   "outputs": [],
   "source": []
  },
  {
   "cell_type": "code",
   "execution_count": null,
   "metadata": {},
   "outputs": [],
   "source": []
  },
  {
   "cell_type": "code",
   "execution_count": null,
   "metadata": {},
   "outputs": [],
   "source": []
  },
  {
   "cell_type": "code",
   "execution_count": null,
   "metadata": {},
   "outputs": [],
   "source": []
  },
  {
   "cell_type": "code",
   "execution_count": null,
   "metadata": {},
   "outputs": [],
   "source": []
  },
  {
   "cell_type": "code",
   "execution_count": null,
   "metadata": {},
   "outputs": [],
   "source": []
  },
  {
   "cell_type": "code",
   "execution_count": null,
   "metadata": {},
   "outputs": [],
   "source": []
  },
  {
   "cell_type": "code",
   "execution_count": null,
   "metadata": {},
   "outputs": [],
   "source": []
  },
  {
   "cell_type": "code",
   "execution_count": null,
   "metadata": {},
   "outputs": [],
   "source": []
  },
  {
   "cell_type": "code",
   "execution_count": null,
   "metadata": {},
   "outputs": [],
   "source": []
  },
  {
   "cell_type": "code",
   "execution_count": null,
   "metadata": {},
   "outputs": [],
   "source": []
  }
 ],
 "metadata": {
  "kernelspec": {
   "display_name": "Python [conda env:keras]",
   "language": "python",
   "name": "conda-env-keras-py"
  },
  "language_info": {
   "codemirror_mode": {
    "name": "ipython",
    "version": 3
   },
   "file_extension": ".py",
   "mimetype": "text/x-python",
   "name": "python",
   "nbconvert_exporter": "python",
   "pygments_lexer": "ipython3",
   "version": "3.6.7"
  },
  "toc": {
   "base_numbering": 1,
   "nav_menu": {},
   "number_sections": true,
   "sideBar": true,
   "skip_h1_title": false,
   "title_cell": "Table of Contents",
   "title_sidebar": "Contents",
   "toc_cell": false,
   "toc_position": {
    "height": "calc(100% - 180px)",
    "left": "10px",
    "top": "150px",
    "width": "165px"
   },
   "toc_section_display": true,
   "toc_window_display": true
  }
 },
 "nbformat": 4,
 "nbformat_minor": 2
}
