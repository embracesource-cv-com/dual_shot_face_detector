{
 "cells": [
  {
   "cell_type": "code",
   "execution_count": 1,
   "metadata": {},
   "outputs": [
    {
     "name": "stderr",
     "output_type": "stream",
     "text": [
      "Using TensorFlow backend.\n",
      "/root/anaconda3/envs/keras/lib/python3.6/importlib/_bootstrap.py:219: RuntimeWarning: numpy.dtype size changed, may indicate binary incompatibility. Expected 96, got 88\n",
      "  return f(*args, **kwds)\n",
      "/root/anaconda3/envs/keras/lib/python3.6/importlib/_bootstrap.py:219: RuntimeWarning: numpy.dtype size changed, may indicate binary incompatibility. Expected 96, got 88\n",
      "  return f(*args, **kwds)\n"
     ]
    }
   ],
   "source": [
    "import sys\n",
    "sys.path.append('/opt/code/face/dual_shot')\n",
    "import numpy as np\n",
    "import collections\n",
    "from prepare_data.generator import image_reader,layer_strides,map_size,e_scale,ratio\n",
    "from prepare_data.model_target import init_anchors,iou_np,regress_target\n",
    "from dual_conf import current_config as conf\n",
    "from prepare_data.widerface import WIDERFaceDetection\n",
    "from sklearn.utils import shuffle"
   ]
  },
  {
   "cell_type": "markdown",
   "metadata": {},
   "source": [
    "## load gt"
   ]
  },
  {
   "cell_type": "code",
   "execution_count": 2,
   "metadata": {},
   "outputs": [
    {
     "name": "stdout",
     "output_type": "stream",
     "text": [
      "Error bbox number to filter : 48,  bbox number: 159376\n"
     ]
    }
   ],
   "source": [
    "test_set = WIDERFaceDetection(conf.data_path, 'train', None, None)\n",
    "image, gts, labels = image_reader(test_set)"
   ]
  },
  {
   "cell_type": "code",
   "execution_count": 3,
   "metadata": {},
   "outputs": [
    {
     "data": {
      "text/plain": [
       "array([[154., 230., 215., 287.],\n",
       "       [352., 110., 405., 179.]])"
      ]
     },
     "execution_count": 3,
     "metadata": {},
     "output_type": "execute_result"
    }
   ],
   "source": [
    "gts"
   ]
  },
  {
   "cell_type": "markdown",
   "metadata": {},
   "source": [
    "## init anchors"
   ]
  },
  {
   "cell_type": "code",
   "execution_count": 4,
   "metadata": {},
   "outputs": [
    {
     "data": {
      "text/plain": [
       "(34125, 4)"
      ]
     },
     "execution_count": 4,
     "metadata": {},
     "output_type": "execute_result"
    }
   ],
   "source": [
    "anchors = init_anchors(layer_strides, map_size, ratio, e_scale)\n",
    "anchors.shape"
   ]
  },
  {
   "cell_type": "markdown",
   "metadata": {},
   "source": [
    "## target detail"
   ]
  },
  {
   "cell_type": "code",
   "execution_count": 5,
   "metadata": {},
   "outputs": [],
   "source": [
    "iou_thread = 0.4\n",
    "train_anchors = 10"
   ]
  },
  {
   "cell_type": "code",
   "execution_count": 6,
   "metadata": {},
   "outputs": [],
   "source": [
    "# calculate iou matrix\n",
    "iou = iou_np(gts, anchors)\n",
    "# print('max_iou:', np.max(iou))\n",
    "# get positive anchors which have iou bigger than 0.7 with any GT\n",
    "iou_sign = np.where(iou > iou_thread, np.ones_like(iou), np.zeros_like(iou))\n",
    "anchor_cls = np.argmax(iou_sign, axis=0)\n",
    "# get positive anchors which has the highest iou with any GT,while the highest iou<0.7\n",
    "row_max_ind = np.argmax(iou, axis=1)  # shape(2,)\n",
    "# combine 2 types of positive anchors\n",
    "anchor_cls = [anchor_cls[i] + 1 if i in row_max_ind else anchor_cls[i] for i in range(len(anchor_cls))]\n",
    "anchor_cls = np.array(anchor_cls)\n",
    "anchor_cls[anchor_cls > 1] = 1\n",
    "# get non-positive index where iou with gt is <0.3\n",
    "bad_ind = np.where(np.equal(anchor_cls, 0))[0]\n",
    "bad_iou = iou[:, bad_ind]\n",
    "bad_iou = np.max(bad_iou, axis=0)\n",
    "bad_neg_ind = np.where(np.greater(0.3, bad_iou) * np.greater(bad_iou, 0))[0]\n",
    "neg_ind = bad_ind[bad_neg_ind]\n",
    "\n",
    "# randomly select positive anchors\n",
    "pos_ind = np.where(np.not_equal(anchor_cls, 0))[0]\n",
    "seed = np.random.randint(0, 1000, 1)[0]\n",
    "pos_ind_chose = shuffle(pos_ind, random_state=seed)[0:train_anchors // 2]\n",
    "neg_ind_chose = shuffle(neg_ind, random_state=seed)[0:train_anchors // 2]"
   ]
  },
  {
   "cell_type": "code",
   "execution_count": 7,
   "metadata": {},
   "outputs": [
    {
     "data": {
      "text/plain": [
       "array([ 8057, 29534,  8069, 13805, 33865])"
      ]
     },
     "execution_count": 7,
     "metadata": {},
     "output_type": "execute_result"
    }
   ],
   "source": [
    "neg_ind_chose"
   ]
  },
  {
   "cell_type": "code",
   "execution_count": 8,
   "metadata": {},
   "outputs": [
    {
     "data": {
      "text/plain": [
       "array([32888, 32928, 32969, 32968, 32929])"
      ]
     },
     "execution_count": 8,
     "metadata": {},
     "output_type": "execute_result"
    }
   ],
   "source": [
    "pos_ind_chose"
   ]
  },
  {
   "cell_type": "code",
   "execution_count": 9,
   "metadata": {},
   "outputs": [
    {
     "data": {
      "text/plain": [
       "7"
      ]
     },
     "execution_count": 9,
     "metadata": {},
     "output_type": "execute_result"
    }
   ],
   "source": [
    "np.sum(anchor_cls)"
   ]
  },
  {
   "cell_type": "code",
   "execution_count": 10,
   "metadata": {},
   "outputs": [],
   "source": [
    "cls_target = np.full(shape=[conf.num_anchor],fill_value=0)\n",
    "cls_target[pos_ind_chose]=1\n",
    "cls_target[neg_ind_chose]=-1"
   ]
  },
  {
   "cell_type": "code",
   "execution_count": 11,
   "metadata": {},
   "outputs": [
    {
     "data": {
      "text/plain": [
       "(34125,)"
      ]
     },
     "execution_count": 11,
     "metadata": {},
     "output_type": "execute_result"
    }
   ],
   "source": [
    "cls_target.shape"
   ]
  },
  {
   "cell_type": "code",
   "execution_count": 12,
   "metadata": {},
   "outputs": [
    {
     "data": {
      "text/plain": [
       "(34125,)"
      ]
     },
     "execution_count": 12,
     "metadata": {},
     "output_type": "execute_result"
    }
   ],
   "source": [
    "col_max_ind = np.argmax(iou, axis=0)\n",
    "col_max_ind.shape"
   ]
  },
  {
   "cell_type": "code",
   "execution_count": 13,
   "metadata": {},
   "outputs": [],
   "source": [
    "gt_to_anchor = gts[col_max_ind]\n",
    "reg_target = regress_target(anchors=anchors, gt_boxes=gt_to_anchor)"
   ]
  },
  {
   "cell_type": "code",
   "execution_count": 14,
   "metadata": {},
   "outputs": [
    {
     "data": {
      "text/plain": [
       "(34125, 4)"
      ]
     },
     "execution_count": 14,
     "metadata": {},
     "output_type": "execute_result"
    }
   ],
   "source": [
    "reg_target.shape"
   ]
  },
  {
   "cell_type": "code",
   "execution_count": 15,
   "metadata": {},
   "outputs": [
    {
     "data": {
      "text/plain": [
       "array([[151.38298154, 297.97799897,   8.21473658,   9.49615337],\n",
       "       [151.38298154, 201.27239404,   8.21473658,   7.57384039],\n",
       "       [151.38298154, 190.21818784,   8.21473658,   7.3659755 ],\n",
       "       ...,\n",
       "       [ -1.92651587,  -4.1981001 ,  -9.81685269,  -9.00742783],\n",
       "       [ -7.06511655,  -4.51316711,  -9.11394293,  -9.75483913],\n",
       "       [ -7.06511655,  -8.97317536,  -9.11394293,  -7.83252615]])"
      ]
     },
     "execution_count": 15,
     "metadata": {},
     "output_type": "execute_result"
    }
   ],
   "source": [
    "reg_target"
   ]
  },
  {
   "cell_type": "markdown",
   "metadata": {},
   "source": [
    "## target func"
   ]
  },
  {
   "cell_type": "code",
   "execution_count": 16,
   "metadata": {},
   "outputs": [],
   "source": [
    "def cal_target(gts=None, anchors=None, iou_thread=0.4, train_anchors=10):\n",
    "    \"\"\" calculate target for 1 sample\n",
    "    :param gts: 2-D array [num_gt,(y1,x1,y2,x2)]\n",
    "    :param anchors: 2-D array, all initialized anchors [num_anchor,(y1,x1,y2,x2)]\n",
    "    :param iou_thread: decimal,thread for positive anchor\n",
    "    :param train_anchors: int, num of anchors to calculate loss\n",
    "    :return:\n",
    "    reg_target: 2-D array, [num_anchor,(dy,dx,dh,dw)]\n",
    "    cls_target:2-D array, [num_anchor], 1,-1,0 for pos,neg and un-train anchors respectively\n",
    "    \"\"\"\n",
    "    # calculate iou matrix\n",
    "    iou = iou_np(gts, anchors)\n",
    "\n",
    "    # get positive anchors which have iou bigger than 0.7 with any GT\n",
    "    iou_sign = np.where(iou > iou_thread, np.ones_like(iou), np.zeros_like(iou))\n",
    "    anchor_cls = np.argmax(iou_sign, axis=0)\n",
    "\n",
    "    # get positive anchors which has the highest iou with any GT,while the highest iou<0.7\n",
    "    row_max_ind = np.argmax(iou, axis=1)  # shape(2,)\n",
    "\n",
    "    # combine 2 types of positive anchors\n",
    "    anchor_cls = [anchor_cls[i] + 1 if i in row_max_ind else anchor_cls[i] for i in range(len(anchor_cls))]\n",
    "    anchor_cls = np.array(anchor_cls)\n",
    "    anchor_cls[anchor_cls > 1] = 1\n",
    "\n",
    "    # get negative anchor index where iou with gt is between 0~0.3\n",
    "    bad_ind = np.where(np.equal(anchor_cls, 0))[0]\n",
    "    bad_iou = iou[:, bad_ind]\n",
    "    bad_iou = np.max(bad_iou, axis=0)\n",
    "    bad_neg_ind = np.where(np.greater(0.3, bad_iou) * np.greater(bad_iou, 0))[0]\n",
    "    neg_ind = bad_ind[bad_neg_ind]\n",
    "\n",
    "    # randomly select positive anchors\n",
    "    pos_ind = np.where(np.not_equal(anchor_cls, 0))[0]\n",
    "    seed = np.random.randint(0, 1000, 1)[0]\n",
    "    pos_ind_chose = shuffle(pos_ind, random_state=seed)[0:train_anchors // 2]\n",
    "    neg_ind_chose = shuffle(neg_ind, random_state=seed)[0:train_anchors // 2]\n",
    "\n",
    "    # cls_target for all anchors\n",
    "    cls_target = np.full(shape=[conf.num_anchor], fill_value=0)\n",
    "    cls_target[pos_ind_chose] = 1\n",
    "    cls_target[neg_ind_chose] = -1\n",
    "\n",
    "    # reg_target for all anchors\n",
    "    col_max_ind = np.argmax(iou, axis=0)\n",
    "    gt_to_anchor = gts[col_max_ind]\n",
    "    reg_target = regress_target(anchors=anchors, gt_boxes=gt_to_anchor)\n",
    "\n",
    "    return reg_target, cls_target"
   ]
  },
  {
   "cell_type": "code",
   "execution_count": 17,
   "metadata": {},
   "outputs": [],
   "source": [
    "reg_target, cls_target = cal_target(gts, anchors, iou_thread=0.4, train_anchors=10)"
   ]
  },
  {
   "cell_type": "code",
   "execution_count": 18,
   "metadata": {},
   "outputs": [
    {
     "data": {
      "text/plain": [
       "(34125, 4)"
      ]
     },
     "execution_count": 18,
     "metadata": {},
     "output_type": "execute_result"
    }
   ],
   "source": [
    "reg_target.shape"
   ]
  },
  {
   "cell_type": "code",
   "execution_count": 19,
   "metadata": {},
   "outputs": [
    {
     "data": {
      "text/plain": [
       "(34125,)"
      ]
     },
     "execution_count": 19,
     "metadata": {},
     "output_type": "execute_result"
    }
   ],
   "source": [
    "cls_target.shape"
   ]
  },
  {
   "cell_type": "code",
   "execution_count": 20,
   "metadata": {},
   "outputs": [
    {
     "data": {
      "text/plain": [
       "[1, 1, 1, 1, 1]"
      ]
     },
     "execution_count": 20,
     "metadata": {},
     "output_type": "execute_result"
    }
   ],
   "source": [
    "[cls_target[i] for i in range(34125) if cls_target[i]==1]"
   ]
  },
  {
   "cell_type": "code",
   "execution_count": 21,
   "metadata": {},
   "outputs": [
    {
     "data": {
      "text/plain": [
       "0"
      ]
     },
     "execution_count": 21,
     "metadata": {},
     "output_type": "execute_result"
    }
   ],
   "source": [
    "np.sum(cls_target)"
   ]
  }
 ],
 "metadata": {
  "kernelspec": {
   "display_name": "Python [conda env:keras]",
   "language": "python",
   "name": "conda-env-keras-py"
  },
  "language_info": {
   "codemirror_mode": {
    "name": "ipython",
    "version": 3
   },
   "file_extension": ".py",
   "mimetype": "text/x-python",
   "name": "python",
   "nbconvert_exporter": "python",
   "pygments_lexer": "ipython3",
   "version": "3.6.7"
  },
  "toc": {
   "base_numbering": 1,
   "nav_menu": {},
   "number_sections": true,
   "sideBar": true,
   "skip_h1_title": false,
   "title_cell": "Table of Contents",
   "title_sidebar": "Contents",
   "toc_cell": false,
   "toc_position": {
    "height": "calc(100% - 180px)",
    "left": "10px",
    "top": "150px",
    "width": "346px"
   },
   "toc_section_display": true,
   "toc_window_display": false
  }
 },
 "nbformat": 4,
 "nbformat_minor": 2
}
